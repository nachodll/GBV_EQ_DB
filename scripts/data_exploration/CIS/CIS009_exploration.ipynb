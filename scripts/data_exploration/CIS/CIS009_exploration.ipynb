{
 "cells": [
  {
   "cell_type": "markdown",
   "metadata": {
    "id": "Ot978oEPR4rF"
   },
   "source": [
    "# 1. Import Microdata from Macroencuesta 2019"
   ]
  },
  {
   "cell_type": "code",
   "execution_count": null,
   "metadata": {
    "id": "7e4ZnqURB9on"
   },
   "outputs": [],
   "source": [
    "import os\n",
    "\n",
    "import pandas as pd\n",
    "import pyreadstat\n",
    "from dotenv import load_dotenv"
   ]
  },
  {
   "cell_type": "code",
   "execution_count": null,
   "metadata": {
    "id": "TnkkgpJOCoDi"
   },
   "outputs": [
    {
     "data": {
      "text/html": [
       "<div>\n",
       "<style scoped>\n",
       "    .dataframe tbody tr th:only-of-type {\n",
       "        vertical-align: middle;\n",
       "    }\n",
       "\n",
       "    .dataframe tbody tr th {\n",
       "        vertical-align: top;\n",
       "    }\n",
       "\n",
       "    .dataframe thead th {\n",
       "        text-align: right;\n",
       "    }\n",
       "</style>\n",
       "<table border=\"1\" class=\"dataframe\">\n",
       "  <thead>\n",
       "    <tr style=\"text-align: right;\">\n",
       "      <th></th>\n",
       "      <th>ESTUDIO</th>\n",
       "      <th>REGISTRO</th>\n",
       "      <th>CUES</th>\n",
       "      <th>FECHAINI</th>\n",
       "      <th>HORAINI</th>\n",
       "      <th>FECHAFIN</th>\n",
       "      <th>HORAFIN</th>\n",
       "      <th>DURACION</th>\n",
       "      <th>CCAA</th>\n",
       "      <th>PROV</th>\n",
       "      <th>...</th>\n",
       "      <th>SDE10A_9</th>\n",
       "      <th>SDE10A_10</th>\n",
       "      <th>SDE10A_11</th>\n",
       "      <th>SDE10A_12</th>\n",
       "      <th>SDE10A_13</th>\n",
       "      <th>SDE10A_99</th>\n",
       "      <th>SDE11</th>\n",
       "      <th>SDE16_1</th>\n",
       "      <th>SDE16_2</th>\n",
       "      <th>PESOCCAA</th>\n",
       "    </tr>\n",
       "  </thead>\n",
       "  <tbody>\n",
       "    <tr>\n",
       "      <th>0</th>\n",
       "      <td>3235</td>\n",
       "      <td>72</td>\n",
       "      <td>1</td>\n",
       "      <td>12/09/2019</td>\n",
       "      <td>10:52:16</td>\n",
       "      <td>12/09/2019</td>\n",
       "      <td>11:10:09</td>\n",
       "      <td>1072</td>\n",
       "      <td>Andalucía</td>\n",
       "      <td>Granada</td>\n",
       "      <td>...</td>\n",
       "      <td>NaN</td>\n",
       "      <td>NaN</td>\n",
       "      <td>NaN</td>\n",
       "      <td>NaN</td>\n",
       "      <td>NaN</td>\n",
       "      <td>NaN</td>\n",
       "      <td>De 901 a 1.200 &amp;euro;</td>\n",
       "      <td>No menciona</td>\n",
       "      <td>Menciona</td>\n",
       "      <td>0.95756</td>\n",
       "    </tr>\n",
       "    <tr>\n",
       "      <th>1</th>\n",
       "      <td>3235</td>\n",
       "      <td>75</td>\n",
       "      <td>2</td>\n",
       "      <td>12/09/2019</td>\n",
       "      <td>11:14:36</td>\n",
       "      <td>12/09/2019</td>\n",
       "      <td>11:32:55</td>\n",
       "      <td>1099</td>\n",
       "      <td>Andalucía</td>\n",
       "      <td>Granada</td>\n",
       "      <td>...</td>\n",
       "      <td>NaN</td>\n",
       "      <td>NaN</td>\n",
       "      <td>NaN</td>\n",
       "      <td>NaN</td>\n",
       "      <td>NaN</td>\n",
       "      <td>NaN</td>\n",
       "      <td>De 1.801 a 2.400 &amp;euro;</td>\n",
       "      <td>Menciona</td>\n",
       "      <td>No menciona</td>\n",
       "      <td>0.96421</td>\n",
       "    </tr>\n",
       "    <tr>\n",
       "      <th>2</th>\n",
       "      <td>3235</td>\n",
       "      <td>79</td>\n",
       "      <td>3</td>\n",
       "      <td>12/09/2019</td>\n",
       "      <td>11:37:06</td>\n",
       "      <td>12/09/2019</td>\n",
       "      <td>11:56:49</td>\n",
       "      <td>1182</td>\n",
       "      <td>Andalucía</td>\n",
       "      <td>Granada</td>\n",
       "      <td>...</td>\n",
       "      <td>NaN</td>\n",
       "      <td>NaN</td>\n",
       "      <td>NaN</td>\n",
       "      <td>NaN</td>\n",
       "      <td>NaN</td>\n",
       "      <td>NaN</td>\n",
       "      <td>De 301 a 600 &amp;euro;</td>\n",
       "      <td>Menciona</td>\n",
       "      <td>No menciona</td>\n",
       "      <td>1.02901</td>\n",
       "    </tr>\n",
       "    <tr>\n",
       "      <th>3</th>\n",
       "      <td>3235</td>\n",
       "      <td>81</td>\n",
       "      <td>4</td>\n",
       "      <td>12/09/2019</td>\n",
       "      <td>11:57:52</td>\n",
       "      <td>12/09/2019</td>\n",
       "      <td>12:11:35</td>\n",
       "      <td>822</td>\n",
       "      <td>Andalucía</td>\n",
       "      <td>Granada</td>\n",
       "      <td>...</td>\n",
       "      <td>NaN</td>\n",
       "      <td>NaN</td>\n",
       "      <td>NaN</td>\n",
       "      <td>NaN</td>\n",
       "      <td>NaN</td>\n",
       "      <td>NaN</td>\n",
       "      <td>De 901 a 1.200 &amp;euro;</td>\n",
       "      <td>Menciona</td>\n",
       "      <td>No menciona</td>\n",
       "      <td>0.95756</td>\n",
       "    </tr>\n",
       "    <tr>\n",
       "      <th>4</th>\n",
       "      <td>3235</td>\n",
       "      <td>84</td>\n",
       "      <td>5</td>\n",
       "      <td>12/09/2019</td>\n",
       "      <td>12:13:53</td>\n",
       "      <td>12/09/2019</td>\n",
       "      <td>12:27:20</td>\n",
       "      <td>806</td>\n",
       "      <td>Andalucía</td>\n",
       "      <td>Granada</td>\n",
       "      <td>...</td>\n",
       "      <td>NaN</td>\n",
       "      <td>NaN</td>\n",
       "      <td>NaN</td>\n",
       "      <td>NaN</td>\n",
       "      <td>NaN</td>\n",
       "      <td>NaN</td>\n",
       "      <td>De 901 a 1.200 &amp;euro;</td>\n",
       "      <td>Menciona</td>\n",
       "      <td>No menciona</td>\n",
       "      <td>1.02901</td>\n",
       "    </tr>\n",
       "    <tr>\n",
       "      <th>...</th>\n",
       "      <td>...</td>\n",
       "      <td>...</td>\n",
       "      <td>...</td>\n",
       "      <td>...</td>\n",
       "      <td>...</td>\n",
       "      <td>...</td>\n",
       "      <td>...</td>\n",
       "      <td>...</td>\n",
       "      <td>...</td>\n",
       "      <td>...</td>\n",
       "      <td>...</td>\n",
       "      <td>...</td>\n",
       "      <td>...</td>\n",
       "      <td>...</td>\n",
       "      <td>...</td>\n",
       "      <td>...</td>\n",
       "      <td>...</td>\n",
       "      <td>...</td>\n",
       "      <td>...</td>\n",
       "      <td>...</td>\n",
       "      <td>...</td>\n",
       "    </tr>\n",
       "    <tr>\n",
       "      <th>9563</th>\n",
       "      <td>3235</td>\n",
       "      <td>180225</td>\n",
       "      <td>9693</td>\n",
       "      <td>28/11/2019</td>\n",
       "      <td>12:51:44</td>\n",
       "      <td>01/12/2019</td>\n",
       "      <td>11:19:14</td>\n",
       "      <td>3504</td>\n",
       "      <td>Melilla (Ciudad Autónoma de)</td>\n",
       "      <td>Melilla</td>\n",
       "      <td>...</td>\n",
       "      <td>NaN</td>\n",
       "      <td>NaN</td>\n",
       "      <td>NaN</td>\n",
       "      <td>NaN</td>\n",
       "      <td>NaN</td>\n",
       "      <td>NaN</td>\n",
       "      <td>De 2.401 a 3.000 &amp;euro;</td>\n",
       "      <td>No menciona</td>\n",
       "      <td>Menciona</td>\n",
       "      <td>0.90295</td>\n",
       "    </tr>\n",
       "    <tr>\n",
       "      <th>9564</th>\n",
       "      <td>3235</td>\n",
       "      <td>180247</td>\n",
       "      <td>9694</td>\n",
       "      <td>29/11/2019</td>\n",
       "      <td>19:15:20</td>\n",
       "      <td>29/11/2019</td>\n",
       "      <td>19:53:32</td>\n",
       "      <td>2290</td>\n",
       "      <td>Melilla (Ciudad Autónoma de)</td>\n",
       "      <td>Melilla</td>\n",
       "      <td>...</td>\n",
       "      <td>NaN</td>\n",
       "      <td>NaN</td>\n",
       "      <td>NaN</td>\n",
       "      <td>NaN</td>\n",
       "      <td>NaN</td>\n",
       "      <td>NaN</td>\n",
       "      <td>De 2.401 a 3.000 &amp;euro;</td>\n",
       "      <td>No menciona</td>\n",
       "      <td>Menciona</td>\n",
       "      <td>1.09138</td>\n",
       "    </tr>\n",
       "    <tr>\n",
       "      <th>9565</th>\n",
       "      <td>3235</td>\n",
       "      <td>180313</td>\n",
       "      <td>9695</td>\n",
       "      <td>01/12/2019</td>\n",
       "      <td>13:18:13</td>\n",
       "      <td>01/12/2019</td>\n",
       "      <td>14:00:22</td>\n",
       "      <td>2528</td>\n",
       "      <td>Melilla (Ciudad Autónoma de)</td>\n",
       "      <td>Melilla</td>\n",
       "      <td>...</td>\n",
       "      <td>NaN</td>\n",
       "      <td>NaN</td>\n",
       "      <td>NaN</td>\n",
       "      <td>NaN</td>\n",
       "      <td>NaN</td>\n",
       "      <td>NaN</td>\n",
       "      <td>De 1.201 a 1.800 &amp;euro;</td>\n",
       "      <td>No menciona</td>\n",
       "      <td>Menciona</td>\n",
       "      <td>0.99035</td>\n",
       "    </tr>\n",
       "    <tr>\n",
       "      <th>9566</th>\n",
       "      <td>3235</td>\n",
       "      <td>180359</td>\n",
       "      <td>9696</td>\n",
       "      <td>01/12/2019</td>\n",
       "      <td>18:13:17</td>\n",
       "      <td>01/12/2019</td>\n",
       "      <td>19:06:42</td>\n",
       "      <td>3204</td>\n",
       "      <td>Melilla (Ciudad Autónoma de)</td>\n",
       "      <td>Melilla</td>\n",
       "      <td>...</td>\n",
       "      <td>NaN</td>\n",
       "      <td>NaN</td>\n",
       "      <td>Menciona</td>\n",
       "      <td>NaN</td>\n",
       "      <td>NaN</td>\n",
       "      <td>NaN</td>\n",
       "      <td>(NO LEER) N.S.</td>\n",
       "      <td>No menciona</td>\n",
       "      <td>Menciona</td>\n",
       "      <td>0.90348</td>\n",
       "    </tr>\n",
       "    <tr>\n",
       "      <th>9567</th>\n",
       "      <td>3235</td>\n",
       "      <td>180368</td>\n",
       "      <td>9697</td>\n",
       "      <td>01/12/2019</td>\n",
       "      <td>19:14:30</td>\n",
       "      <td>01/12/2019</td>\n",
       "      <td>19:51:04</td>\n",
       "      <td>2193</td>\n",
       "      <td>Melilla (Ciudad Autónoma de)</td>\n",
       "      <td>Melilla</td>\n",
       "      <td>...</td>\n",
       "      <td>NaN</td>\n",
       "      <td>NaN</td>\n",
       "      <td>NaN</td>\n",
       "      <td>NaN</td>\n",
       "      <td>NaN</td>\n",
       "      <td>NaN</td>\n",
       "      <td>De 1.801 a 2.400 &amp;euro;</td>\n",
       "      <td>Menciona</td>\n",
       "      <td>Menciona</td>\n",
       "      <td>0.90295</td>\n",
       "    </tr>\n",
       "  </tbody>\n",
       "</table>\n",
       "<p>9568 rows × 1121 columns</p>\n",
       "</div>"
      ],
      "text/plain": [
       "     ESTUDIO REGISTRO  CUES    FECHAINI   HORAINI    FECHAFIN   HORAFIN  \\\n",
       "0       3235       72     1  12/09/2019  10:52:16  12/09/2019  11:10:09   \n",
       "1       3235       75     2  12/09/2019  11:14:36  12/09/2019  11:32:55   \n",
       "2       3235       79     3  12/09/2019  11:37:06  12/09/2019  11:56:49   \n",
       "3       3235       81     4  12/09/2019  11:57:52  12/09/2019  12:11:35   \n",
       "4       3235       84     5  12/09/2019  12:13:53  12/09/2019  12:27:20   \n",
       "...      ...      ...   ...         ...       ...         ...       ...   \n",
       "9563    3235   180225  9693  28/11/2019  12:51:44  01/12/2019  11:19:14   \n",
       "9564    3235   180247  9694  29/11/2019  19:15:20  29/11/2019  19:53:32   \n",
       "9565    3235   180313  9695  01/12/2019  13:18:13  01/12/2019  14:00:22   \n",
       "9566    3235   180359  9696  01/12/2019  18:13:17  01/12/2019  19:06:42   \n",
       "9567    3235   180368  9697  01/12/2019  19:14:30  01/12/2019  19:51:04   \n",
       "\n",
       "     DURACION                          CCAA     PROV  ... SDE10A_9 SDE10A_10  \\\n",
       "0        1072                     Andalucía  Granada  ...      NaN       NaN   \n",
       "1        1099                     Andalucía  Granada  ...      NaN       NaN   \n",
       "2        1182                     Andalucía  Granada  ...      NaN       NaN   \n",
       "3         822                     Andalucía  Granada  ...      NaN       NaN   \n",
       "4         806                     Andalucía  Granada  ...      NaN       NaN   \n",
       "...       ...                           ...      ...  ...      ...       ...   \n",
       "9563     3504  Melilla (Ciudad Autónoma de)  Melilla  ...      NaN       NaN   \n",
       "9564     2290  Melilla (Ciudad Autónoma de)  Melilla  ...      NaN       NaN   \n",
       "9565     2528  Melilla (Ciudad Autónoma de)  Melilla  ...      NaN       NaN   \n",
       "9566     3204  Melilla (Ciudad Autónoma de)  Melilla  ...      NaN       NaN   \n",
       "9567     2193  Melilla (Ciudad Autónoma de)  Melilla  ...      NaN       NaN   \n",
       "\n",
       "     SDE10A_11 SDE10A_12 SDE10A_13 SDE10A_99                    SDE11  \\\n",
       "0          NaN       NaN       NaN       NaN    De 901 a 1.200 &euro;   \n",
       "1          NaN       NaN       NaN       NaN  De 1.801 a 2.400 &euro;   \n",
       "2          NaN       NaN       NaN       NaN      De 301 a 600 &euro;   \n",
       "3          NaN       NaN       NaN       NaN    De 901 a 1.200 &euro;   \n",
       "4          NaN       NaN       NaN       NaN    De 901 a 1.200 &euro;   \n",
       "...        ...       ...       ...       ...                      ...   \n",
       "9563       NaN       NaN       NaN       NaN  De 2.401 a 3.000 &euro;   \n",
       "9564       NaN       NaN       NaN       NaN  De 2.401 a 3.000 &euro;   \n",
       "9565       NaN       NaN       NaN       NaN  De 1.201 a 1.800 &euro;   \n",
       "9566  Menciona       NaN       NaN       NaN           (NO LEER) N.S.   \n",
       "9567       NaN       NaN       NaN       NaN  De 1.801 a 2.400 &euro;   \n",
       "\n",
       "          SDE16_1      SDE16_2 PESOCCAA  \n",
       "0     No menciona     Menciona  0.95756  \n",
       "1        Menciona  No menciona  0.96421  \n",
       "2        Menciona  No menciona  1.02901  \n",
       "3        Menciona  No menciona  0.95756  \n",
       "4        Menciona  No menciona  1.02901  \n",
       "...           ...          ...      ...  \n",
       "9563  No menciona     Menciona  0.90295  \n",
       "9564  No menciona     Menciona  1.09138  \n",
       "9565  No menciona     Menciona  0.99035  \n",
       "9566  No menciona     Menciona  0.90348  \n",
       "9567     Menciona     Menciona  0.90295  \n",
       "\n",
       "[9568 rows x 1121 columns]"
      ]
     },
     "execution_count": 3,
     "metadata": {},
     "output_type": "execute_result"
    }
   ],
   "source": [
    "load_dotenv()\n",
    "root_path = os.getenv(\"ROOT_PATH\")\n",
    "dataset_dir = os.path.join(root_path, \"datasets\", \"raw\", \"CIS\", \"CIS001_Macroencuesta2019\")\n",
    "dataset_path = os.path.join(dataset_dir, \"3235.sav\")\n",
    "df, meta = pyreadstat.read_sav(dataset_path, apply_value_formats=True)\n",
    "df"
   ]
  },
  {
   "cell_type": "markdown",
   "metadata": {
    "id": "rb5DzQOLSBnC"
   },
   "source": [
    "# 2. Data Exploration"
   ]
  },
  {
   "cell_type": "code",
   "execution_count": null,
   "metadata": {
    "colab": {
     "base_uri": "https://localhost:8080/"
    },
    "id": "Uf8PtNECC5KG",
    "outputId": "d1c328a2-808a-44b7-e4c1-97202949def6"
   },
   "outputs": [
    {
     "data": {
      "text/plain": [
       "9568"
      ]
     },
     "execution_count": 5,
     "metadata": {},
     "output_type": "execute_result"
    }
   ],
   "source": [
    "num_participants = len(df)\n",
    "num_participants"
   ]
  },
  {
   "cell_type": "code",
   "execution_count": null,
   "metadata": {
    "id": "SMWFQisoHYnh"
   },
   "outputs": [
    {
     "data": {
      "text/plain": [
       "np.float64(0.3658026755852843)"
      ]
     },
     "execution_count": 7,
     "metadata": {},
     "output_type": "execute_result"
    }
   ],
   "source": [
    "# Porcentaje mujeres cuya pareja actual trata o ha tratado\n",
    "# de impedirle que vea a sus amigos o amigas frecuentemente\n",
    "total = (df[\"M1P1_0_1\"] == \"Frecuentemente\").sum()\n",
    "porcentaje = (total / num_participants) * 100\n",
    "porcentaje"
   ]
  },
  {
   "cell_type": "code",
   "execution_count": null,
   "metadata": {
    "colab": {
     "base_uri": "https://localhost:8080/"
    },
    "id": "wgSlvrUN0_ZT",
    "outputId": "cb7b801b-6c68-461f-e523-63616328a2cf"
   },
   "outputs": [
    {
     "data": {
      "text/plain": [
       "735"
      ]
     },
     "execution_count": 8,
     "metadata": {},
     "output_type": "execute_result"
    }
   ],
   "source": [
    "# Violencia psicológica de control en pareja actual\n",
    "tipo_violencia = \"M1P1\"\n",
    "campos = []\n",
    "for prevalencia in [\"0\", \"A\", \"B\"]:\n",
    "    for num_preg in range(1, 12):\n",
    "        campos.append(f\"{tipo_violencia}_{prevalencia}_{num_preg}\")\n",
    "\n",
    "filtro = df[campos].apply(lambda campo: campo.isin([\"Frecuentemente\", \"Algunas veces\"])).any(axis=1)\n",
    "datos_filtrados = df[filtro]\n",
    "len(datos_filtrados)"
   ]
  },
  {
   "cell_type": "code",
   "execution_count": null,
   "metadata": {
    "colab": {
     "base_uri": "https://localhost:8080/"
    },
    "id": "fkuXWglb46nh",
    "outputId": "78ccfe94-ec7c-4383-d427-f12f345c6703"
   },
   "outputs": [
    {
     "data": {
      "text/plain": [
       "2022"
      ]
     },
     "execution_count": 9,
     "metadata": {},
     "output_type": "execute_result"
    }
   ],
   "source": [
    "# Violencia psicológica de control en parejas pasadas\n",
    "tipo_violencia = \"M2P1\"\n",
    "campos = []\n",
    "for prevalencia in [\"0\", \"A\", \"B\"]:\n",
    "    for num_preg in range(1, 12):\n",
    "        campos.append(f\"{tipo_violencia}_{prevalencia}_{num_preg}\")\n",
    "\n",
    "filtro = df[campos].apply(lambda campo: campo.isin([\"Frecuentemente\", \"Algunas veces\"])).any(axis=1)\n",
    "datos_filtrados = df[filtro]\n",
    "datos_filtrados[campos]\n",
    "len(datos_filtrados)"
   ]
  },
  {
   "cell_type": "code",
   "execution_count": null,
   "metadata": {
    "colab": {
     "base_uri": "https://localhost:8080/"
    },
    "id": "ZZimhNGeDIgD",
    "outputId": "787fde67-ab1e-49cf-891c-9b08693ef955"
   },
   "outputs": [
    {
     "name": "stdout",
     "output_type": "stream",
     "text": [
      "['M1P3_0_2', 'M1P3_A_2', 'M1P3_B_2']\n"
     ]
    },
    {
     "data": {
      "text/plain": [
       "213"
      ]
     },
     "execution_count": 10,
     "metadata": {},
     "output_type": "execute_result"
    }
   ],
   "source": [
    "# Violencia psicológica emocional en pareja actual\n",
    "tipo_violencia = \"M1P3\"\n",
    "campos = []\n",
    "for prevalencia in [\"0\", \"A\", \"B\"]:\n",
    "    campos.append(f\"{tipo_violencia}_{prevalencia}_2\")\n",
    "print(campos)\n",
    "\n",
    "filtro = df[campos].apply(lambda campo: campo == \"Sí\").any(axis=1)\n",
    "datos_filtrados = df[filtro]\n",
    "len(datos_filtrados)"
   ]
  },
  {
   "cell_type": "code",
   "execution_count": null,
   "metadata": {
    "colab": {
     "base_uri": "https://localhost:8080/"
    },
    "id": "ckna-7yqZ8Bz",
    "outputId": "39fa606a-fac5-4845-8bac-e9f0d253bf7e"
   },
   "outputs": [
    {
     "name": "stdout",
     "output_type": "stream",
     "text": [
      "28/11/2019\n",
      "01/12/2019\n",
      "3504\n"
     ]
    }
   ],
   "source": [
    "# Comprobación de que el campo duración no es un campo calculado\n",
    "print(df[\"FECHAINI\"].loc[9563])\n",
    "print(df[\"FECHAFIN\"].loc[9563])\n",
    "print(df[\"DURACION\"].loc[9563])"
   ]
  },
  {
   "cell_type": "code",
   "execution_count": null,
   "metadata": {
    "colab": {
     "base_uri": "https://localhost:8080/"
    },
    "id": "yVUUGNn3Y9XH",
    "outputId": "cac77815-f886-45da-f23a-5f80a62333be"
   },
   "outputs": [
    {
     "data": {
      "text/plain": [
       "3576"
      ]
     },
     "execution_count": 12,
     "metadata": {},
     "output_type": "execute_result"
    }
   ],
   "source": [
    "filtro_no_violencia_pareja = df[\"NOVIOLENCIA_P\"].apply(lambda x: x == \"Menciona\")\n",
    "no_violencia_pareja = df[filtro_no_violencia_pareja]\n",
    "len(df) - len(no_violencia_pareja)"
   ]
  },
  {
   "cell_type": "markdown",
   "metadata": {
    "id": "InS3rTuXRt37"
   },
   "source": [
    "# 3. Extract variables, labels and values"
   ]
  },
  {
   "cell_type": "code",
   "execution_count": null,
   "metadata": {
    "id": "JjURNDLGKBlD"
   },
   "outputs": [
    {
     "data": {
      "text/html": [
       "<div>\n",
       "<style scoped>\n",
       "    .dataframe tbody tr th:only-of-type {\n",
       "        vertical-align: middle;\n",
       "    }\n",
       "\n",
       "    .dataframe tbody tr th {\n",
       "        vertical-align: top;\n",
       "    }\n",
       "\n",
       "    .dataframe thead th {\n",
       "        text-align: right;\n",
       "    }\n",
       "</style>\n",
       "<table border=\"1\" class=\"dataframe\">\n",
       "  <thead>\n",
       "    <tr style=\"text-align: right;\">\n",
       "      <th></th>\n",
       "      <th>Code</th>\n",
       "      <th>VariableName</th>\n",
       "    </tr>\n",
       "  </thead>\n",
       "  <tbody>\n",
       "    <tr>\n",
       "      <th>0</th>\n",
       "      <td>ESTUDIO</td>\n",
       "      <td>Código del estudio</td>\n",
       "    </tr>\n",
       "    <tr>\n",
       "      <th>1</th>\n",
       "      <td>REGISTRO</td>\n",
       "      <td>Número de registro</td>\n",
       "    </tr>\n",
       "    <tr>\n",
       "      <th>2</th>\n",
       "      <td>CUES</td>\n",
       "      <td>Nº de cuestionario</td>\n",
       "    </tr>\n",
       "    <tr>\n",
       "      <th>3</th>\n",
       "      <td>FECHAINI</td>\n",
       "      <td>Fecha de inicio de la entrevista</td>\n",
       "    </tr>\n",
       "    <tr>\n",
       "      <th>4</th>\n",
       "      <td>HORAINI</td>\n",
       "      <td>Hora de inicio de la entrevista</td>\n",
       "    </tr>\n",
       "    <tr>\n",
       "      <th>...</th>\n",
       "      <td>...</td>\n",
       "      <td>...</td>\n",
       "    </tr>\n",
       "    <tr>\n",
       "      <th>1116</th>\n",
       "      <td>SDE10A_99</td>\n",
       "      <td>N.C.</td>\n",
       "    </tr>\n",
       "    <tr>\n",
       "      <th>1117</th>\n",
       "      <td>SDE11</td>\n",
       "      <td>Ingresos del hogar</td>\n",
       "    </tr>\n",
       "    <tr>\n",
       "      <th>1118</th>\n",
       "      <td>SDE16_1</td>\n",
       "      <td>Teléfono: Da teléfono fijo</td>\n",
       "    </tr>\n",
       "    <tr>\n",
       "      <th>1119</th>\n",
       "      <td>SDE16_2</td>\n",
       "      <td>Teléfono: Da teléfono móvil</td>\n",
       "    </tr>\n",
       "    <tr>\n",
       "      <th>1120</th>\n",
       "      <td>PESOCCAA</td>\n",
       "      <td>Ponderación CCAA</td>\n",
       "    </tr>\n",
       "  </tbody>\n",
       "</table>\n",
       "<p>1121 rows × 2 columns</p>\n",
       "</div>"
      ],
      "text/plain": [
       "           Code                      VariableName\n",
       "0       ESTUDIO                Código del estudio\n",
       "1      REGISTRO                Número de registro\n",
       "2          CUES                Nº de cuestionario\n",
       "3      FECHAINI  Fecha de inicio de la entrevista\n",
       "4       HORAINI   Hora de inicio de la entrevista\n",
       "...         ...                               ...\n",
       "1116  SDE10A_99                              N.C.\n",
       "1117      SDE11                Ingresos del hogar\n",
       "1118    SDE16_1        Teléfono: Da teléfono fijo\n",
       "1119    SDE16_2       Teléfono: Da teléfono móvil\n",
       "1120   PESOCCAA                  Ponderación CCAA\n",
       "\n",
       "[1121 rows x 2 columns]"
      ]
     },
     "execution_count": 18,
     "metadata": {},
     "output_type": "execute_result"
    }
   ],
   "source": [
    "syntax_file_path = os.path.join(dataset_dir, \"ES3235\")\n",
    "with open(syntax_file_path, \"r\", encoding=\"utf-8\") as f:\n",
    "    rows = f.readlines()[151:1272]\n",
    "\n",
    "stripped_rows = [row.strip().split(\"'\", 1) for row in rows]\n",
    "vars = pd.DataFrame(stripped_rows, columns=[\"Code\", \"VariableName\"])\n",
    "\n",
    "# Uppercase, no whitespace, semicollons or slasches\n",
    "vars[\"Code\"] = vars[\"Code\"].str.upper()\n",
    "vars[\"Code\"] = vars[\"Code\"].str.replace(\" \", \"\", regex=False)\n",
    "vars[\"VariableName\"] = vars[\"VariableName\"].str.replace(\"'\", \"\", regex=False)\n",
    "vars.loc[1:, \"Code\"] = vars.loc[1:, \"Code\"].apply(lambda cod: cod[1:])\n",
    "vars"
   ]
  },
  {
   "cell_type": "code",
   "execution_count": null,
   "metadata": {
    "colab": {
     "base_uri": "https://localhost:8080/",
     "height": 891
    },
    "id": "7BSKPIUIMRB7",
    "outputId": "079226f8-e60e-4571-8128-44ee01430b78"
   },
   "outputs": [
    {
     "data": {
      "text/html": [
       "<div>\n",
       "<style scoped>\n",
       "    .dataframe tbody tr th:only-of-type {\n",
       "        vertical-align: middle;\n",
       "    }\n",
       "\n",
       "    .dataframe tbody tr th {\n",
       "        vertical-align: top;\n",
       "    }\n",
       "\n",
       "    .dataframe thead th {\n",
       "        text-align: right;\n",
       "    }\n",
       "</style>\n",
       "<table border=\"1\" class=\"dataframe\">\n",
       "  <thead>\n",
       "    <tr style=\"text-align: right;\">\n",
       "      <th></th>\n",
       "      <th>Code</th>\n",
       "      <th>VariableName</th>\n",
       "      <th>UniqueValues</th>\n",
       "    </tr>\n",
       "  </thead>\n",
       "  <tbody>\n",
       "    <tr>\n",
       "      <th>0</th>\n",
       "      <td>ESTUDIO</td>\n",
       "      <td>Código del estudio</td>\n",
       "      <td>['3235']\n",
       "Categories (1, object): ['3235']</td>\n",
       "    </tr>\n",
       "    <tr>\n",
       "      <th>1</th>\n",
       "      <td>REGISTRO</td>\n",
       "      <td>Número de registro</td>\n",
       "      <td>['72', '75', '79', '81', '84', ..., '180225', ...</td>\n",
       "    </tr>\n",
       "    <tr>\n",
       "      <th>2</th>\n",
       "      <td>CUES</td>\n",
       "      <td>Nº de cuestionario</td>\n",
       "      <td>['1', '2', '3', '4', '5', ..., '9693', '9694',...</td>\n",
       "    </tr>\n",
       "    <tr>\n",
       "      <th>3</th>\n",
       "      <td>FECHAINI</td>\n",
       "      <td>Fecha de inicio de la entrevista</td>\n",
       "      <td>[12/09/2019, 13/09/2019, 14/09/2019, 15/09/201...</td>\n",
       "    </tr>\n",
       "    <tr>\n",
       "      <th>4</th>\n",
       "      <td>HORAINI</td>\n",
       "      <td>Hora de inicio de la entrevista</td>\n",
       "      <td>[10:52:16, 11:14:36, 11:37:06, 11:57:52, 12:13...</td>\n",
       "    </tr>\n",
       "    <tr>\n",
       "      <th>...</th>\n",
       "      <td>...</td>\n",
       "      <td>...</td>\n",
       "      <td>...</td>\n",
       "    </tr>\n",
       "    <tr>\n",
       "      <th>1116</th>\n",
       "      <td>SDE10A_99</td>\n",
       "      <td>N.C.</td>\n",
       "      <td>[NaN, 'Menciona']\n",
       "Categories (1, object): ['Me...</td>\n",
       "    </tr>\n",
       "    <tr>\n",
       "      <th>1117</th>\n",
       "      <td>SDE11</td>\n",
       "      <td>Ingresos del hogar</td>\n",
       "      <td>['De 901 a 1.200 &amp;euro;', 'De 1.801 a 2.400 &amp;e...</td>\n",
       "    </tr>\n",
       "    <tr>\n",
       "      <th>1118</th>\n",
       "      <td>SDE16_1</td>\n",
       "      <td>Teléfono: Da teléfono fijo</td>\n",
       "      <td>['No menciona', 'Menciona']\n",
       "Categories (2, obj...</td>\n",
       "    </tr>\n",
       "    <tr>\n",
       "      <th>1119</th>\n",
       "      <td>SDE16_2</td>\n",
       "      <td>Teléfono: Da teléfono móvil</td>\n",
       "      <td>['Menciona', 'No menciona']\n",
       "Categories (2, obj...</td>\n",
       "    </tr>\n",
       "    <tr>\n",
       "      <th>1120</th>\n",
       "      <td>PESOCCAA</td>\n",
       "      <td>Ponderación CCAA</td>\n",
       "      <td>[0.95756, 0.96421, 1.02901, 1.07064, 0.967, 0....</td>\n",
       "    </tr>\n",
       "  </tbody>\n",
       "</table>\n",
       "<p>1121 rows × 3 columns</p>\n",
       "</div>"
      ],
      "text/plain": [
       "           Code                      VariableName  \\\n",
       "0       ESTUDIO                Código del estudio   \n",
       "1      REGISTRO                Número de registro   \n",
       "2          CUES                Nº de cuestionario   \n",
       "3      FECHAINI  Fecha de inicio de la entrevista   \n",
       "4       HORAINI   Hora de inicio de la entrevista   \n",
       "...         ...                               ...   \n",
       "1116  SDE10A_99                              N.C.   \n",
       "1117      SDE11                Ingresos del hogar   \n",
       "1118    SDE16_1        Teléfono: Da teléfono fijo   \n",
       "1119    SDE16_2       Teléfono: Da teléfono móvil   \n",
       "1120   PESOCCAA                  Ponderación CCAA   \n",
       "\n",
       "                                           UniqueValues  \n",
       "0             ['3235']\n",
       "Categories (1, object): ['3235']  \n",
       "1     ['72', '75', '79', '81', '84', ..., '180225', ...  \n",
       "2     ['1', '2', '3', '4', '5', ..., '9693', '9694',...  \n",
       "3     [12/09/2019, 13/09/2019, 14/09/2019, 15/09/201...  \n",
       "4     [10:52:16, 11:14:36, 11:37:06, 11:57:52, 12:13...  \n",
       "...                                                 ...  \n",
       "1116  [NaN, 'Menciona']\n",
       "Categories (1, object): ['Me...  \n",
       "1117  ['De 901 a 1.200 &euro;', 'De 1.801 a 2.400 &e...  \n",
       "1118  ['No menciona', 'Menciona']\n",
       "Categories (2, obj...  \n",
       "1119  ['Menciona', 'No menciona']\n",
       "Categories (2, obj...  \n",
       "1120  [0.95756, 0.96421, 1.02901, 1.07064, 0.967, 0....  \n",
       "\n",
       "[1121 rows x 3 columns]"
      ]
     },
     "execution_count": 20,
     "metadata": {},
     "output_type": "execute_result"
    }
   ],
   "source": [
    "vars[\"UniqueValues\"] = vars[\"Code\"].apply(lambda cod: df[cod].unique())\n",
    "vars"
   ]
  },
  {
   "cell_type": "code",
   "execution_count": null,
   "metadata": {
    "id": "BN1Nzt-VV6BS"
   },
   "outputs": [],
   "source": [
    "vars.to_excel(\"vars.xlsx\", index=False)"
   ]
  }
 ],
 "metadata": {
  "colab": {
   "provenance": []
  },
  "kernelspec": {
   "display_name": "venv",
   "language": "python",
   "name": "python3"
  },
  "language_info": {
   "codemirror_mode": {
    "name": "ipython",
    "version": 3
   },
   "file_extension": ".py",
   "mimetype": "text/x-python",
   "name": "python",
   "nbconvert_exporter": "python",
   "pygments_lexer": "ipython3",
   "version": "3.12.1"
  }
 },
 "nbformat": 4,
 "nbformat_minor": 4
}
